{
 "cells": [
  {
   "cell_type": "code",
   "execution_count": null,
   "metadata": {
    "collapsed": true
   },
   "outputs": [],
   "source": [
    "%matplotlib\n",
    "\n",
    "from matplotlib import pyplot\n",
    "import numpy\n",
    "\n",
    "filename = \"busy_day.in\""
   ]
  },
  {
   "cell_type": "code",
   "execution_count": null,
   "metadata": {
    "collapsed": true
   },
   "outputs": [],
   "source": [
    "f = open(filename)\n",
    "line = next(f)\n",
    "rows, cols, drones, time, load = map(float, line.split())\n",
    "\n",
    "products = int(next(f))\n",
    "weights = [float(l) for l in zip(range(products), f)]\n",
    "\n",
    "warehouses = int(next(f))\n",
    "supplies = [\n",
    "    tuple(map(int, next(f).split())), list(map(int, next(f).split())) for w in range(warehouses)\n",
    "]\n",
    "\n",
    "customers = int(next(f))\n",
    "orders = [\n",
    "    tuple(map(int, next(f).split())), int(next(f)), list(map(int, next(f).split())) for c in range(customers)\n",
    "]\n"
   ]
  }
 ],
 "metadata": {
  "kernelspec": {
   "display_name": "Python 3",
   "language": "python3",
   "name": "python3"
  },
  "language_info": {
   "codemirror_mode": {
    "name": "ipython",
    "version": 3
   },
   "file_extension": ".py",
   "mimetype": "text/x-python",
   "name": "python",
   "nbconvert_exporter": "python",
   "pygments_lexer": "ipython3",
   "version": "3.5.0"
  }
 },
 "nbformat": 4,
 "nbformat_minor": 0
}
